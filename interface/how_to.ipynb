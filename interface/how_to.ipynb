{
 "cells": [
  {
   "cell_type": "markdown",
   "metadata": {},
   "source": [
    "### To use this notebook, follow my process below. This focuses on doing this locally on your own machine. API will be covered later\n",
    "\n",
    "## 0.0 Import the required packages"
   ]
  },
  {
   "cell_type": "code",
   "execution_count": 3,
   "metadata": {},
   "outputs": [],
   "source": [
    "import altair as alt\n",
    "import pandas as pd\n",
    "import json\n"
   ]
  },
  {
   "cell_type": "markdown",
   "metadata": {},
   "source": [
    "## 1.0. Preparing the Data for the base of the map:\n",
    "   - Load the hexjson file containing the data you want to work with.\n",
    "   - Make sure the hexjson file is in the correct format and accessible from the notebook.\n",
    "   - You can use the `json` module to load the hexjson file into a Python dictionary.\n",
    "\n",
    "### 1.1 Converting the JSON to a DataFrame:\n",
    "   - Once you have loaded the hexjson data into a dictionary, you can convert it to a DataFrame using the `pd.DataFrame()` function from the pandas library.\n",
    "   - Pass the dictionary as the argument to the `pd.DataFrame()` function to create the DataFrame.\n",
    "   - Assign the resulting DataFrame to a variable for further processing.\n"
   ]
  },
  {
   "cell_type": "code",
   "execution_count": 66,
   "metadata": {},
   "outputs": [],
   "source": [
    "alt_data = pd.read_json('/home/asia/code/willgreen93/UK_election/interface/data/uk-constituencies-2019-BBC.hexjson')\n",
    "alt_df = pd.DataFrame(alt_data)\n"
   ]
  },
  {
   "cell_type": "markdown",
   "metadata": {},
   "source": [
    "### 1.2 Cleaning up the columns\n",
    "In this case, the hex file we're using is from OpenInnovations https://open-innovations.org/projects/hexmaps/constituencies/ -- check what and where to get the latitutde and longitude, for this file it will be 'r' and 'q' instead of the usual lat and lon values. You will also be able to use the 'region' key to merge your data with the hex map provided"
   ]
  },
  {
   "cell_type": "code",
   "execution_count": 83,
   "metadata": {},
   "outputs": [
    {
     "name": "stderr",
     "output_type": "stream",
     "text": [
      "/tmp/ipykernel_11233/1721648817.py:1: FutureWarning: Series.__getitem__ treating keys as positions is deprecated. In a future version, integer keys will always be treated as labels (consistent with DataFrame behavior). To access a value by position, use `ser.iloc[pos]`\n",
      "  alt_df['hexes'][0] #this is specific to this json file\n"
     ]
    }
   ],
   "source": [
    "## you can check values with ###\n",
    "# alt_df['hexes'][0] #this is specific to this json file\n",
    "\n",
    "alt_df[['n', 'r', 'q', 'region']] = \\\n",
    "    alt_df['hexes'].apply(lambda x: pd.Series([x.get('n'), x.get('r'), x.get('q'), x.get('region')]))\n",
    "\n",
    "# #reset index to prepare for joining to results\n",
    "new_df = alt_df.rename_axis('constituency_id').reset_index().drop(columns=['hexes'])\n"
   ]
  },
  {
   "cell_type": "markdown",
   "metadata": {},
   "source": [
    "## 2.0 Merging the DataFrame with the Prediction (Voting Results):\n",
    "\n",
    "If you have a separate prediction or voting results dataset that you want to merge with the main DataFrame, follow these steps:\n",
    "- Load the prediction dataset into a separate DataFrame using the same process as described in step 2.\n",
    "- Ensure that both DataFrames have a common column that can be used as a key for merging, you can use the constituency ID for this case\n",
    "- Use the `pd.merge()` function to merge the two DataFrames based on the common column.\n",
    "- Assign the merged DataFrame to a new variable for further analysis.\n"
   ]
  },
  {
   "cell_type": "code",
   "execution_count": 74,
   "metadata": {},
   "outputs": [],
   "source": [
    "#Let's use the 2019 results (elec_data__2019.csv) here, this will be replaced \\\n",
    "# with the actual model predictions once we connect this to the API\n",
    "results_2019 = pd.read_csv( \\\n",
    "    '/home/asia/code/willgreen93/UK_election/interface/data/elec_data_2019.csv')\n",
    "\n",
    "#for the basic app, we will just use the 'incumbent_party' column and the 'constituency_id'\n",
    "basic_df = results_2019[['constituency_id', 'constituency','country','incumbent_party']]\n",
    "\n",
    "df = pd.merge(basic_df, new_df, on='constituency_id', how='left')\n"
   ]
  },
  {
   "cell_type": "markdown",
   "metadata": {},
   "source": [
    "## 3.0 Edit params.py to fill out with the URL and the params necessary for the streamlit app"
   ]
  }
 ],
 "metadata": {
  "kernelspec": {
   "display_name": "UK_election",
   "language": "python",
   "name": "python3"
  },
  "language_info": {
   "codemirror_mode": {
    "name": "ipython",
    "version": 3
   },
   "file_extension": ".py",
   "mimetype": "text/x-python",
   "name": "python",
   "nbconvert_exporter": "python",
   "pygments_lexer": "ipython3",
   "version": "3.10.6"
  }
 },
 "nbformat": 4,
 "nbformat_minor": 2
}
